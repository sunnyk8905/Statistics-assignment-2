{
 "cells": [
  {
   "cell_type": "code",
   "execution_count": null,
   "id": "ac2852bf-1c40-4cae-b528-fd74858f3a9a",
   "metadata": {},
   "outputs": [],
   "source": [
    "Q1. What are the three measures of central tendency?"
   ]
  },
  {
   "cell_type": "code",
   "execution_count": null,
   "id": "73f699fb-2dc4-4578-bfe6-a6babf0dd9ab",
   "metadata": {},
   "outputs": [],
   "source": [
    "Mean,Median and Mode are the three measure of central tendency."
   ]
  },
  {
   "cell_type": "code",
   "execution_count": null,
   "id": "91b770bf-dc04-409a-b27c-2ddbc6699e0e",
   "metadata": {},
   "outputs": [],
   "source": [
    "Q2. What is the difference between the mean, median, and mode? How are they used to measure the\n",
    "central tendency of a dataset?"
   ]
  },
  {
   "cell_type": "code",
   "execution_count": null,
   "id": "e218a639-6d9a-47cd-89ea-fe66d4320915",
   "metadata": {},
   "outputs": [],
   "source": [
    "*Mean: The mean is also known as the average. It is calculated by adding up all the values in a dataset and dividing the sum  \n",
    "by the total number of values. \n",
    "=>Mean is used for numerical data with a roughly symmetrical distribution.\n",
    "\n",
    "*Median: The median is the middle value in a dataset when it is arranged in ascending or descending order. If the dataset has\n",
    "an odd number of values, the median is the value at the center. If the dataset has an even number of values, the median is the \n",
    "the average of the two middle values.\n",
    "=>Median is used for numerical data with outliers or a skewed distribution.\n",
    "\n",
    "*Mode: The mode represents the most frequently occurring value(s) in a dataset. It can be a single value or multiple\n",
    " values if there is more than one mode.\n",
    "=>Mode is used for categorical or qualitative data.\n",
    "\n",
    "                                    "
   ]
  },
  {
   "cell_type": "code",
   "execution_count": null,
   "id": "bb68ec17-84eb-4446-b7d2-bcfcb3a30b8b",
   "metadata": {},
   "outputs": [],
   "source": [
    "Q3. Measure the three measures of central tendency for the given height data:\n",
    "[178,177,176,177,178.2,178,175,179,180,175,178.9,176.2,177,172.5,178,176.5]"
   ]
  },
  {
   "cell_type": "code",
   "execution_count": null,
   "id": "81f8b085-c05b-465a-bd60-151fc30393c5",
   "metadata": {},
   "outputs": [],
   "source": [
    "Mean = (178 + 177 + 176 + 177 + 178.2 + 178 + 175 + 179 + 180 + 175 + 178.9 + 176.2 + 177 + 172.5 + 178 + 176.5) / 16\n",
    "Mean = 2819.3 / 16\n",
    "Mean ≈ 176.20625"
   ]
  },
  {
   "cell_type": "code",
   "execution_count": null,
   "id": "ff4ce0fb-93b5-4d64-8a06-af66ac0ad7c2",
   "metadata": {},
   "outputs": [],
   "source": [
    "First, we need to sort the data in ascending order:\n",
    "[172.5, 175, 175, 176, 176.2, 176.5, 177, 177, 178, 178, 178, 178.2, 178.9, 179, 180]\n",
    "\n",
    "Since we have an odd number of values (16), the median is the middle value, which in this case is the 8th value:\n",
    "Median = 177"
   ]
  },
  {
   "cell_type": "code",
   "execution_count": null,
   "id": "7e2c56eb-4162-4343-b26b-7ad5d0db338b",
   "metadata": {},
   "outputs": [],
   "source": [
    "No Mode"
   ]
  },
  {
   "cell_type": "code",
   "execution_count": null,
   "id": "7d9237ce-beff-4c2a-9ca3-351d68625b7f",
   "metadata": {},
   "outputs": [],
   "source": [
    "Q4. Find the standard deviation for the given data:\n",
    "[178,177,176,177,178.2,178,175,179,180,175,178.9,176.2,177,172.5,178,176.5]"
   ]
  },
  {
   "cell_type": "code",
   "execution_count": null,
   "id": "de922df5-2d65-4f06-a813-c72f0357116b",
   "metadata": {},
   "outputs": [],
   "source": [
    "Mean = (178 + 177 + 176 + 177 + 178.2 + 178 + 175 + 179 + 180 + 175 + 178.9 + 176.2 + 177 + 172.5 + 178 + 176.5) / 16\n",
    "Mean = 2819.3 / 16\n",
    "Mean ≈ 176.20625"
   ]
  },
  {
   "cell_type": "code",
   "execution_count": null,
   "id": "28448683-ddf1-4c3e-9b48-a87f792e07ce",
   "metadata": {},
   "outputs": [],
   "source": [
    "s^2=(178 - 176.20625)^2, (177 - 176.20625)^2, (176 - 176.20625)^2, ..., (176.5 - 176.20625)^2"
   ]
  },
  {
   "cell_type": "code",
   "execution_count": null,
   "id": "13a0ab81-5635-4f90-9eb9-47f004d7177d",
   "metadata": {},
   "outputs": [],
   "source": [
    "sum of squared difference is  60.09960625\n",
    "varience=   60.09960625/16 \n",
    "        =   3.75622539\n",
    "    \n",
    "standard deviation = 1.8644"
   ]
  },
  {
   "cell_type": "code",
   "execution_count": null,
   "id": "0c043894-93af-472f-89ae-3ba6fad1d233",
   "metadata": {},
   "outputs": [],
   "source": [
    "Q5. How are measures of dispersion such as range, variance, and standard deviation used to describe\n",
    "the spread of a dataset? Provide an example."
   ]
  },
  {
   "cell_type": "code",
   "execution_count": null,
   "id": "b857c8a5-e01f-4700-b71b-a3b9eb821745",
   "metadata": {},
   "outputs": [],
   "source": [
    "Range:\n",
    "     It gives an idea of the total spread of the data. However, it only considers the extreme values and doesn't take into \n",
    "      account the distribution of the other values. example:-\n",
    "                                                           if you have a dataset of temperatures recorded in a week, the rang\n",
    "                       would be the difference between the highest and lowest temperature, indicating the overall variability.\n",
    "            \n",
    "Variance:\n",
    "    Variance is calculated by summing the squared differences between each data point and the mean, dividing by the number of \n",
    "    data points.\n",
    "Standard Deviation: The standard deviation is the square root of the variance.\n",
    "                     Standard deviation is widely used as it is expressed in the same units as the original data. "
   ]
  },
  {
   "cell_type": "code",
   "execution_count": null,
   "id": "0914c38a-a613-4cad-8533-4935b37c6946",
   "metadata": {},
   "outputs": [],
   "source": [
    "Let's consider a dataset of daily sales for two different stores over a month: Store A and Store B. \n",
    "The sales data for Store A is [100, 110, 105, 95, 120], while the sales data for Store B is [80, 85, 90, 75, 95].\n",
    "\n",
    "Range: The range for Store A is 120 - 95 = 25, and for Store B is 95 - 75 = 20. \n",
    " This tells us that the sales figures for Store A are spread over a larger range compared to Store B.\n",
    "\n",
    "Variance and Standard Deviation: Calculating the variance and standard deviation for both stores would provide a more \n",
    "detailed understanding of the spread of sales figures.\n",
    " Let's assume that the variance for Store A is 50 and for Store B is 40. The standard deviation for \n",
    " Store A would be the square root of 50, approximately 7.07, and for Store B, it would be the square root of 40, approximately\n",
    "6.32 .This indicates that the sales figures for Store A have a higher variability compared to Store B.\n"
   ]
  },
  {
   "cell_type": "code",
   "execution_count": null,
   "id": "9d20dd5e-0129-4aad-aa77-6cad118e4e7e",
   "metadata": {},
   "outputs": [],
   "source": [
    "Q6. What is a Venn diagram?"
   ]
  },
  {
   "cell_type": "code",
   "execution_count": null,
   "id": "8b1ad5a0-806d-4b60-aed1-9ddeb48b1125",
   "metadata": {},
   "outputs": [],
   "source": [
    "A Venn diagram is a visual representation of sets or groups using overlapping circles or other shapes. \n",
    "In a Venn diagram, each circle represents a set, and the overlapping regions show the intersections between the sets. \n",
    "The elements or members of each set are typically represented by points or shapes within the circles."
   ]
  },
  {
   "cell_type": "code",
   "execution_count": null,
   "id": "edc06a7a-0553-45ed-8418-bf03f7944e4a",
   "metadata": {},
   "outputs": [],
   "source": [
    "Q7. For the two given sets A = (2,3,4,5,6,7) & B = (0,2,6,8,10). Find:\n",
    "(i) AnB\n",
    "(ii) A ⋃ B"
   ]
  },
  {
   "cell_type": "code",
   "execution_count": null,
   "id": "59797d5b-cbca-48de-9724-7d9f8290dc3f",
   "metadata": {},
   "outputs": [],
   "source": [
    "AnB=(2,6)\n",
    "AuB=(0,2,3,4,5,6,7,8,10)"
   ]
  },
  {
   "cell_type": "code",
   "execution_count": null,
   "id": "44abb0e7-4e20-4140-b9f7-d18e8b4bd0dc",
   "metadata": {},
   "outputs": [],
   "source": [
    "Q8. What do you understand about skewness in data?"
   ]
  },
  {
   "cell_type": "code",
   "execution_count": null,
   "id": "ba16d620-8d51-46f8-99a2-f79b6a7f1076",
   "metadata": {},
   "outputs": [],
   "source": [
    "Skewness is a statistical measure that describes the asymmetry or lack of symmetry in a probability distribution or dataset. "
   ]
  },
  {
   "cell_type": "code",
   "execution_count": null,
   "id": "9364a9ea-8daa-498b-a272-b51258e18a85",
   "metadata": {},
   "outputs": [],
   "source": [
    "Q9. If a data is right skewed then what will be the position of median with respect to mean?"
   ]
  },
  {
   "cell_type": "code",
   "execution_count": null,
   "id": "64e71a7f-6b46-4afd-9519-a336e3299a85",
   "metadata": {},
   "outputs": [],
   "source": [
    "Right-skewed distribution: Median < Mean"
   ]
  },
  {
   "cell_type": "code",
   "execution_count": null,
   "id": "7ef36bf7-8a1b-432f-8ab6-672a0e63e8f5",
   "metadata": {},
   "outputs": [],
   "source": [
    "Q10. Explain the difference between covariance and correlation. How are these measures used in\n",
    "statistical analysis?"
   ]
  },
  {
   "cell_type": "code",
   "execution_count": null,
   "id": "7ec056ee-2d10-461c-afa8-b32df3cc1454",
   "metadata": {},
   "outputs": [],
   "source": [
    "Covariance:\n",
    "Covariance measures the directional relationship and extent of linear association between two variables.\n",
    "Covariance is calculated using the following formula:\n",
    "Cov(X, Y) = Σ[(X - μx)(Y - μy)] / n\n",
    "where X and Y are the variables, μx and μy are their respective means, and n is the number of observations."
   ]
  },
  {
   "cell_type": "code",
   "execution_count": null,
   "id": "65ee8eca-acb8-4d0f-aabb-8cc9b8a60752",
   "metadata": {},
   "outputs": [],
   "source": [
    "Correlation measures both the strength and direction of the linear relationship between two variables. \n",
    "Correlation is calculated using the following formula:\n",
    "Corr(X, Y) = Cov(X, Y) / (σx * σy)\n",
    "where X and Y are the variables, Cov(X, Y) is the covariance, and σx and σy are the standard deviations of X and Y,respectively"
   ]
  },
  {
   "cell_type": "code",
   "execution_count": null,
   "id": "0b6c89ac-f8c5-492e-bad3-6e2e4d1df287",
   "metadata": {},
   "outputs": [],
   "source": [
    "Q11. What is the formula for calculating the sample mean? Provide an example calculation for a\n",
    "dataset."
   ]
  },
  {
   "cell_type": "code",
   "execution_count": null,
   "id": "7e80df69-6d7a-48cf-8132-ddf9fcaa82a8",
   "metadata": {},
   "outputs": [],
   "source": [
    "x̄ = (x₁ + x₂ + x₃ + ... + xn) / n\n",
    "example:-\n",
    "       Let's calculate the sample mean for the following dataset: [10, 15, 20, 25, 30]\n",
    "\n",
    "To find the sample mean:\n",
    "x̄ = (10 + 15 + 20 + 25 + 30) / 5\n",
    "\n",
    "x̄ = 100 / 5\n",
    "\n",
    "x̄ = 20 "
   ]
  },
  {
   "cell_type": "code",
   "execution_count": null,
   "id": "bf3a1ceb-03f7-4e4f-b12f-5202a2c28569",
   "metadata": {},
   "outputs": [],
   "source": [
    "Q12. For a normal distribution data what is the relationship between its measure of central tendency?"
   ]
  },
  {
   "cell_type": "code",
   "execution_count": null,
   "id": "71b78373-b31b-4774-b13d-50c6d8fc5f8c",
   "metadata": {},
   "outputs": [],
   "source": [
    "For a normal distribution, the three measures of central tendency (mean, median, and mode) are all equal and located at the center of the distribution."
   ]
  },
  {
   "cell_type": "code",
   "execution_count": null,
   "id": "112d7205-4c93-4a04-8693-cd6821b9c0a1",
   "metadata": {},
   "outputs": [],
   "source": [
    "Q13. How is covariance different from correlation?"
   ]
  },
  {
   "cell_type": "code",
   "execution_count": null,
   "id": "24e23d97-0e94-445c-9c81-7b645d58269e",
   "metadata": {},
   "outputs": [],
   "source": [
    "covariance measures the extent and direction of the linear relationship between variables but is influenced by the scales of\n",
    " the variables. \n",
    "Correlation is a standardized measure of covariance that provides a more interpretable and comparable measure of the \n",
    "strength and direction of the linear relationship, regardless of the units or scales of the variables."
   ]
  },
  {
   "cell_type": "code",
   "execution_count": null,
   "id": "dba7d97e-661d-4e41-bd36-e9843638cc20",
   "metadata": {},
   "outputs": [],
   "source": [
    "Q14. How do outliers affect measures of central tendency and dispersion? Provide an example."
   ]
  },
  {
   "cell_type": "code",
   "execution_count": null,
   "id": "dac5f904-ee01-4629-a830-9f5d57b47c93",
   "metadata": {},
   "outputs": [],
   "source": []
  }
 ],
 "metadata": {
  "kernelspec": {
   "display_name": "Python 3 (ipykernel)",
   "language": "python",
   "name": "python3"
  },
  "language_info": {
   "codemirror_mode": {
    "name": "ipython",
    "version": 3
   },
   "file_extension": ".py",
   "mimetype": "text/x-python",
   "name": "python",
   "nbconvert_exporter": "python",
   "pygments_lexer": "ipython3",
   "version": "3.10.8"
  }
 },
 "nbformat": 4,
 "nbformat_minor": 5
}
